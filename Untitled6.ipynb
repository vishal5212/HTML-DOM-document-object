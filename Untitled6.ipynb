{
  "nbformat": 4,
  "nbformat_minor": 0,
  "metadata": {
    "colab": {
      "name": "Untitled6.ipynb",
      "version": "0.3.2",
      "provenance": [],
      "include_colab_link": true
    },
    "kernelspec": {
      "name": "python2",
      "display_name": "Python 2"
    }
  },
  "cells": [
    {
      "cell_type": "markdown",
      "metadata": {
        "id": "view-in-github",
        "colab_type": "text"
      },
      "source": [
        "<a href=\"https://colab.research.google.com/github/vishal5212/HTML-DOM-document-object/blob/master/Untitled6.ipynb\" target=\"_parent\"><img src=\"https://colab.research.google.com/assets/colab-badge.svg\" alt=\"Open In Colab\"/></a>"
      ]
    },
    {
      "cell_type": "code",
      "metadata": {
        "id": "HZiPycV9XQYq",
        "colab_type": "code",
        "colab": {
          "base_uri": "https://localhost:8080/",
          "height": 367
        },
        "outputId": "f5b56666-5234-4c77-9543-84512fe51083"
      },
      "source": [
        "%matplotlib inline\n",
        "import network.network as Network\n",
        "import network.mnist_loader as mnist_loader\n",
        "import pickle\n",
        "import matplotlib.pyplot as plt\n",
        "import numpy as np"
      ],
      "execution_count": 1,
      "outputs": [
        {
          "output_type": "error",
          "ename": "ImportError",
          "evalue": "ignored",
          "traceback": [
            "\u001b[0;31m\u001b[0m",
            "\u001b[0;31mImportError\u001b[0mTraceback (most recent call last)",
            "\u001b[0;32m<ipython-input-1-0d62a52f1de8>\u001b[0m in \u001b[0;36m<module>\u001b[0;34m()\u001b[0m\n\u001b[1;32m      1\u001b[0m \u001b[0mget_ipython\u001b[0m\u001b[0;34m(\u001b[0m\u001b[0;34m)\u001b[0m\u001b[0;34m.\u001b[0m\u001b[0mmagic\u001b[0m\u001b[0;34m(\u001b[0m\u001b[0;34mu'matplotlib inline'\u001b[0m\u001b[0;34m)\u001b[0m\u001b[0;34m\u001b[0m\u001b[0;34m\u001b[0m\u001b[0m\n\u001b[0;32m----> 2\u001b[0;31m \u001b[0;32mimport\u001b[0m \u001b[0mnetwork\u001b[0m\u001b[0;34m.\u001b[0m\u001b[0mnetwork\u001b[0m \u001b[0;32mas\u001b[0m \u001b[0mNetwork\u001b[0m\u001b[0;34m\u001b[0m\u001b[0;34m\u001b[0m\u001b[0m\n\u001b[0m\u001b[1;32m      3\u001b[0m \u001b[0;32mimport\u001b[0m \u001b[0mnetwork\u001b[0m\u001b[0;34m.\u001b[0m\u001b[0mmnist_loader\u001b[0m \u001b[0;32mas\u001b[0m \u001b[0mmnist_loader\u001b[0m\u001b[0;34m\u001b[0m\u001b[0;34m\u001b[0m\u001b[0m\n\u001b[1;32m      4\u001b[0m \u001b[0;32mimport\u001b[0m \u001b[0mpickle\u001b[0m\u001b[0;34m\u001b[0m\u001b[0;34m\u001b[0m\u001b[0m\n\u001b[1;32m      5\u001b[0m \u001b[0;32mimport\u001b[0m \u001b[0mmatplotlib\u001b[0m\u001b[0;34m.\u001b[0m\u001b[0mpyplot\u001b[0m \u001b[0;32mas\u001b[0m \u001b[0mplt\u001b[0m\u001b[0;34m\u001b[0m\u001b[0;34m\u001b[0m\u001b[0m\n",
            "\u001b[0;31mImportError\u001b[0m: No module named network.network",
            "",
            "\u001b[0;31m---------------------------------------------------------------------------\u001b[0;32m\nNOTE: If your import is failing due to a missing package, you can\nmanually install dependencies using either !pip or !apt.\n\nTo view examples of installing some common dependencies, click the\n\"Open Examples\" button below.\n\u001b[0;31m---------------------------------------------------------------------------\u001b[0m\n"
          ]
        }
      ]
    },
    {
      "cell_type": "code",
      "metadata": {
        "id": "ZQUlUjMUXVfk",
        "colab_type": "code",
        "colab": {
          "base_uri": "https://localhost:8080/",
          "height": 136
        },
        "outputId": "94fa2682-bf72-4ac7-f7be-5e339ed6b9db"
      },
      "source": [
        "!unzip Simple_Adversarial_Examples-master.zip"
      ],
      "execution_count": 4,
      "outputs": [
        {
          "output_type": "stream",
          "text": [
            "Archive:  Simple_Adversarial_Examples-master.zip\n",
            "  End-of-central-directory signature not found.  Either this file is not\n",
            "  a zipfile, or it constitutes one disk of a multi-part archive.  In the\n",
            "  latter case the central directory and zipfile comment will be found on\n",
            "  the last disk(s) of this archive.\n",
            "unzip:  cannot find zipfile directory in one of Simple_Adversarial_Examples-master.zip or\n",
            "        Simple_Adversarial_Examples-master.zip.zip, and cannot find Simple_Adversarial_Examples-master.zip.ZIP, period.\n"
          ],
          "name": "stdout"
        }
      ]
    },
    {
      "cell_type": "code",
      "metadata": {
        "id": "dtUTZm67Y-6p",
        "colab_type": "code",
        "colab": {
          "base_uri": "https://localhost:8080/",
          "height": 34
        },
        "outputId": "79a638c7-90a4-4a6f-9819-4d1000c61c4c"
      },
      "source": [
        "!ls\n"
      ],
      "execution_count": 5,
      "outputs": [
        {
          "output_type": "stream",
          "text": [
            "adversarial_example.ipynb  sample_data\tSimple_Adversarial_Examples-master.zip\n"
          ],
          "name": "stdout"
        }
      ]
    },
    {
      "cell_type": "code",
      "metadata": {
        "id": "4oNnw8Ifabpv",
        "colab_type": "code",
        "colab": {
          "base_uri": "https://localhost:8080/",
          "height": 425
        },
        "outputId": "d227b72c-6308-4783-d7a1-206d36f8065e"
      },
      "source": [
        "!unzip Simple_Adversarial_Examples-master.zip"
      ],
      "execution_count": 6,
      "outputs": [
        {
          "output_type": "stream",
          "text": [
            "Archive:  Simple_Adversarial_Examples-master.zip\n",
            "114056cc63f97bcb7ce23a8e968bc218b073837d\n",
            "   creating: Simple_Adversarial_Examples-master/\n",
            "  inflating: Simple_Adversarial_Examples-master/.gitignore  \n",
            "  inflating: Simple_Adversarial_Examples-master/README.md  \n",
            "  inflating: Simple_Adversarial_Examples-master/adversarial_example.ipynb  \n",
            "   creating: Simple_Adversarial_Examples-master/data/\n",
            "  inflating: Simple_Adversarial_Examples-master/data/mnist.pkl.gz  \n",
            "   creating: Simple_Adversarial_Examples-master/images/\n",
            "  inflating: Simple_Adversarial_Examples-master/images/adversarial_example.jpg  \n",
            "   creating: Simple_Adversarial_Examples-master/network/\n",
            " extracting: Simple_Adversarial_Examples-master/network/__init__.py  \n",
            "  inflating: Simple_Adversarial_Examples-master/network/mnist_loader.py  \n",
            "  inflating: Simple_Adversarial_Examples-master/network/network.py  \n",
            "  inflating: Simple_Adversarial_Examples-master/network/trained_network.pkl  \n",
            "   creating: Simple_Adversarial_Examples-master/versions/\n",
            "   creating: Simple_Adversarial_Examples-master/versions/DSD/\n",
            " extracting: Simple_Adversarial_Examples-master/versions/DSD/__init__.py  \n",
            "  inflating: Simple_Adversarial_Examples-master/versions/DSD/adversarial_example.ipynb  \n",
            "   creating: Simple_Adversarial_Examples-master/versions/DSD/data/\n",
            "  inflating: Simple_Adversarial_Examples-master/versions/DSD/data/mnist.pkl.gz  \n",
            "  inflating: Simple_Adversarial_Examples-master/versions/DSD/mnist_loader.py  \n",
            "  inflating: Simple_Adversarial_Examples-master/versions/DSD/network.py  \n",
            "  inflating: Simple_Adversarial_Examples-master/versions/DSD/trained_network.pkl  \n"
          ],
          "name": "stdout"
        }
      ]
    },
    {
      "cell_type": "code",
      "metadata": {
        "id": "3mJvEirraXr3",
        "colab_type": "code",
        "colab": {
          "base_uri": "https://localhost:8080/",
          "height": 34
        },
        "outputId": "345b472c-f9d0-48a4-df7e-2719a3dc4fc2"
      },
      "source": [
        "%cd Simple_Adversarial_Examples-master"
      ],
      "execution_count": 7,
      "outputs": [
        {
          "output_type": "stream",
          "text": [
            "/content/Simple_Adversarial_Examples-master\n"
          ],
          "name": "stdout"
        }
      ]
    },
    {
      "cell_type": "code",
      "metadata": {
        "id": "kB58eOyLakWy",
        "colab_type": "code",
        "colab": {
          "base_uri": "https://localhost:8080/",
          "height": 34
        },
        "outputId": "2986536e-aba3-4453-daa8-75f526867555"
      },
      "source": [
        "!ls"
      ],
      "execution_count": 8,
      "outputs": [
        {
          "output_type": "stream",
          "text": [
            "adversarial_example.ipynb  data  images  network  README.md  versions\n"
          ],
          "name": "stdout"
        }
      ]
    },
    {
      "cell_type": "code",
      "metadata": {
        "id": "zhb_kQ19ammy",
        "colab_type": "code",
        "colab": {
          "base_uri": "https://localhost:8080/",
          "height": 85
        },
        "outputId": "fa437632-f24e-412c-968d-7475b188e545"
      },
      "source": [
        "!python adversarial_example.ipynb"
      ],
      "execution_count": 9,
      "outputs": [
        {
          "output_type": "stream",
          "text": [
            "Traceback (most recent call last):\n",
            "  File \"adversarial_example.ipynb\", line 856, in <module>\n",
            "    \"scrolled\": true\n",
            "NameError: name 'true' is not defined\n"
          ],
          "name": "stdout"
        }
      ]
    },
    {
      "cell_type": "code",
      "metadata": {
        "id": "6C9LbjNNa0QC",
        "colab_type": "code",
        "colab": {}
      },
      "source": [
        "%matplotlib inline\n",
        "import network.network as Network\n",
        "import network.mnist_loader as mnist_loader\n",
        "import pickle\n",
        "import matplotlib.pyplot as plt\n",
        "import numpy as np"
      ],
      "execution_count": 0,
      "outputs": []
    },
    {
      "cell_type": "code",
      "metadata": {
        "id": "CvZiku7CbwqZ",
        "colab_type": "code",
        "colab": {}
      },
      "source": [
        "with open('network/trained_network.pkl', 'rb') as f:\n",
        "    net = pickle.load(f)\n",
        "\n",
        "# PYTHON 3 WORK AROUND (uncomment this\n",
        "# and comment the above if using python 3)\n",
        "#with open('network/trained_network.pkl', 'rb') as f:\n",
        "#    u = pickle._Unpickler(f)\n",
        "#    u.encoding = 'latin1'\n",
        "#    net = u.load()\n",
        "    \n",
        "training_data, validation_data, test_data = mnist_loader.load_data_wrapper()"
      ],
      "execution_count": 0,
      "outputs": []
    },
    {
      "cell_type": "code",
      "metadata": {
        "id": "Z-wpyvEub2r0",
        "colab_type": "code",
        "colab": {}
      },
      "source": [
        "def predict(n):\n",
        "    # Get the data from the test set\n",
        "    x = test_data[n][0]\n",
        "\n",
        "    # Print the prediction of the network\n",
        "    print('Network output: \\n' + str(np.round(net.feedforward(x), 2)) + '\\n')\n",
        "    print('Network prediction: ' + str(np.argmax(net.feedforward(x))) + '\\n')\n",
        "    print('Actual image: ')\n",
        "    \n",
        "    # Draw the image\n",
        "    plt.imshow(x.reshape((28,28)), cmap='Greys')\n",
        "\n",
        "# Replace the argument with any number between 0 and 9999\n"
      ],
      "execution_count": 0,
      "outputs": []
    },
    {
      "cell_type": "code",
      "metadata": {
        "id": "HC44dRuAcnSr",
        "colab_type": "code",
        "colab": {
          "base_uri": "https://localhost:8080/",
          "height": 524
        },
        "outputId": "c9d199c0-2437-4694-d1c2-bd08a80ca91c"
      },
      "source": [
        "predict(8080)"
      ],
      "execution_count": 16,
      "outputs": [
        {
          "output_type": "stream",
          "text": [
            "Network output: \n",
            "[[0.]\n",
            " [0.]\n",
            " [0.]\n",
            " [1.]\n",
            " [0.]\n",
            " [0.]\n",
            " [0.]\n",
            " [0.]\n",
            " [0.]\n",
            " [0.]]\n",
            "\n",
            "Network prediction: 3\n",
            "\n",
            "Actual image: \n"
          ],
          "name": "stdout"
        },
        {
          "output_type": "display_data",
          "data": {
            "image/png": "[encoded data removed]",
            "text/plain": [
              "<Figure size 432x288 with 1 Axes>"
            ]
          },
          "metadata": {
            "tags": []
          }
        }
      ]
    },
    {
      "cell_type": "code",
      "metadata": {
        "id": "cQM44SYgcAuT",
        "colab_type": "code",
        "colab": {}
      },
      "source": [
        "def sigmoid(z):\n",
        "    \"\"\"The sigmoid function.\"\"\"\n",
        "    return 1.0/(1.0+np.exp(-z))\n",
        "                                                                                                                                                                                \n",
        "def sigmoid_prime(z):\n",
        "    \"\"\"Derivative of the sigmoid function.\"\"\"\n",
        "    return sigmoid(z)*(1-sigmoid(z))"
      ],
      "execution_count": 0,
      "outputs": []
    },
    {
      "cell_type": "code",
      "metadata": {
        "id": "PxihhUr3cMH0",
        "colab_type": "code",
        "colab": {}
      },
      "source": [
        "def input_derivative(net, x, y):\n",
        "    \"\"\" Calculate derivatives wrt the inputs\"\"\"\n",
        "    nabla_b = [np.zeros(b.shape) for b in net.biases]\n",
        "    nabla_w = [np.zeros(w.shape) for w in net.weights]\n",
        "    \n",
        "    # feedforward\n",
        "    activation = x\n",
        "    activations = [x] # list to store all the activations, layer by layer\n",
        "    zs = [] # list to store all the z vectors, layer by layer\n",
        "    for b, w in zip(net.biases, net.weights):\n",
        "        z = np.dot(w, activation)+b\n",
        "        zs.append(z)\n",
        "        activation = sigmoid(z)\n",
        "        activations.append(activation)\n",
        "        \n",
        "    # backward pass\n",
        "    delta = net.cost_derivative(activations[-1], y) * \\\n",
        "        sigmoid_prime(zs[-1])\n",
        "    nabla_b[-1] = delta\n",
        "    nabla_w[-1] = np.dot(delta, activations[-2].transpose())\n",
        "\n",
        "    for l in xrange(2, net.num_layers):\n",
        "        z = zs[-l]\n",
        "        sp = sigmoid_prime(z)\n",
        "        delta = np.dot(net.weights[-l+1].transpose(), delta) * sp\n",
        "        nabla_b[-l] = delta\n",
        "        nabla_w[-l] = np.dot(delta, activations[-l-1].transpose())\n",
        "        \n",
        "    # Return derivatives WRT to input\n",
        "    return net.weights[0].T.dot(delta)"
      ],
      "execution_count": 0,
      "outputs": []
    },
    {
      "cell_type": "code",
      "metadata": {
        "id": "GLU9JJk0cg4s",
        "colab_type": "code",
        "colab": {}
      },
      "source": [
        "def adversarial(net, n, steps, eta):\n",
        "    \"\"\"\n",
        "    net : network object\n",
        "        neural network instance to use\n",
        "    n : integer\n",
        "        our goal label (just an int, the function transforms it into a one-hot vector)\n",
        "    steps : integer\n",
        "        number of steps for gradient descent\n",
        "    eta : float\n",
        "        step size for gradient descent\n",
        "    \"\"\"\n",
        "    # Set the goal output\n",
        "    goal = np.zeros((10, 1))\n",
        "    goal[n] = 1\n",
        "\n",
        "    # Create a random image to initialize gradient descent with\n",
        "    x = np.random.normal(.5, .3, (784, 1))\n",
        "\n",
        "    # Gradient descent on the input\n",
        "    for i in range(steps):\n",
        "        # Calculate the derivative\n",
        "        d = input_derivative(net,x,goal)\n",
        "        \n",
        "        # The GD update on x\n",
        "        x -= eta * d\n",
        "        \n",
        "    return x\n",
        "\n",
        "# Wrapper function\n",
        "def generate(n):\n",
        "    \"\"\"\n",
        "    n : integer\n",
        "        goal label (not a one hot vector)\n",
        "    \"\"\"\n",
        "    a = adversarial(net, n, 1000, 1)\n",
        "    x = np.round(net.feedforward(a), 2)\n",
        "    \n",
        "    print('Network Output: \\n' + str(x) + '\\n')\n",
        "    \n",
        "    print('Network Prediction: ' + str(np.argmax(x)) + '\\n')\n",
        "    \n",
        "    print('Adversarial Example: ')\n",
        "    plt.imshow(a.reshape(28,28), cmap='Greys')"
      ],
      "execution_count": 0,
      "outputs": []
    },
    {
      "cell_type": "code",
      "metadata": {
        "id": "bTbt8HsydB8V",
        "colab_type": "code",
        "colab": {
          "base_uri": "https://localhost:8080/",
          "height": 524
        },
        "outputId": "db320fff-4e43-4779-f095-52fbc57a1242"
      },
      "source": [
        "generate(4)"
      ],
      "execution_count": 23,
      "outputs": [
        {
          "output_type": "stream",
          "text": [
            "Network Output: \n",
            "[[0.  ]\n",
            " [0.  ]\n",
            " [0.01]\n",
            " [0.  ]\n",
            " [0.  ]\n",
            " [0.  ]\n",
            " [0.  ]\n",
            " [0.  ]\n",
            " [0.  ]\n",
            " [0.  ]]\n",
            "\n",
            "Network Prediction: 2\n",
            "\n",
            "Adversarial Example: \n"
          ],
          "name": "stdout"
        },
        {
          "output_type": "display_data",
          "data": {
            "image/png": "[encoded data removed]",
            "text/plain": [
              "<Figure size 432x288 with 1 Axes>"
            ]
          },
          "metadata": {
            "tags": []
          }
        }
      ]
    },
    {
      "cell_type": "code",
      "metadata": {
        "id": "FEMOog4Udi7m",
        "colab_type": "code",
        "colab": {}
      },
      "source": [
        "def sneaky_adversarial(net, n, x_target, steps, eta, lam=.05):\n",
        "    \"\"\"\n",
        "    net : network object\n",
        "        neural network instance to use\n",
        "    n : integer\n",
        "        our goal label (just an int, the function transforms it into a one-hot vector)\n",
        "    x_target : numpy vector\n",
        "        our goal image for the adversarial example\n",
        "    steps : integer\n",
        "        number of steps for gradient descent\n",
        "    eta : float\n",
        "        step size for gradient descent\n",
        "    lam : float\n",
        "        lambda, our regularization parameter. Default is .05\n",
        "    \"\"\"\n",
        "    \n",
        "    # Set the goal output\n",
        "    goal = np.zeros((10, 1))\n",
        "    goal[n] = 1\n",
        "\n",
        "    # Create a random image to initialize gradient descent with\n",
        "    x = np.random.normal(.5, .3, (784, 1))\n",
        "\n",
        "    # Gradient descent on the input\n",
        "    for i in range(steps):\n",
        "        # Calculate the derivative\n",
        "        d = input_derivative(net,x,goal)\n",
        "        \n",
        "        # The GD update on x, with an added penalty to the cost function\n",
        "        # ONLY CHANGE IS RIGHT HERE!!!\n",
        "        x -= eta * (d + lam * (x - x_target))\n",
        "\n",
        "    return x\n",
        "\n",
        "# Wrapper function\n",
        "def sneaky_generate(n, m):\n",
        "    \"\"\"\n",
        "    n: int 0-9, the target number to match\n",
        "    m: index of example image to use (from the test set)\n",
        "    \"\"\"\n",
        "    \n",
        "    # Find random instance of m in test set\n",
        "    idx = np.random.randint(0,8000)\n",
        "    while test_data[idx][1] != m:\n",
        "        idx += 1\n",
        "    \n",
        "    # Hardcode the parameters for the wrapper function\n",
        "    a = sneaky_adversarial(net, n, test_data[idx][0], 100, 1)\n",
        "    x = np.round(net.feedforward(a), 2)\n",
        "    \n",
        "    print('\\nWhat we want our adversarial example to look like: ')\n",
        "    plt.imshow(test_data[idx][0].reshape((28,28)), cmap='Greys')\n",
        "    plt.show()\n",
        "    \n",
        "    print('\\n')\n",
        "    \n",
        "    print('Adversarial Example: ')\n",
        "    \n",
        "    plt.imshow(a.reshape(28,28), cmap='Greys')\n",
        "    plt.show()\n",
        "    \n",
        "    print('Network Prediction: ' + str(np.argmax(x)) + '\\n')\n",
        "    \n",
        "    print('Network Output: \\n' + str(x) + '\\n')\n",
        "    \n",
        "    return a"
      ],
      "execution_count": 0,
      "outputs": []
    },
    {
      "cell_type": "code",
      "metadata": {
        "id": "xFVgr8ixemEH",
        "colab_type": "code",
        "colab": {
          "base_uri": "https://localhost:8080/",
          "height": 844
        },
        "outputId": "8b33ef44-a5e8-4da9-f7c2-704d6cc85e66"
      },
      "source": [
        "# sneaky_generate(target label, target digit)\n",
        "adv_ex = sneaky_generate(6, 2)"
      ],
      "execution_count": 28,
      "outputs": [
        {
          "output_type": "stream",
          "text": [
            "\n",
            "What we want our adversarial example to look like: \n"
          ],
          "name": "stdout"
        },
        {
          "output_type": "display_data",
          "data": {
            "image/png": "[encoded data removed]",
            "text/plain": [
              "<Figure size 432x288 with 1 Axes>"
            ]
          },
          "metadata": {
            "tags": []
          }
        },
        {
          "output_type": "stream",
          "text": [
            "\n",
            "\n",
            "Adversarial Example: \n"
          ],
          "name": "stdout"
        },
        {
          "output_type": "display_data",
          "data": {
            "image/png": "[encoded data removed]",
            "text/plain": [
              "<Figure size 432x288 with 1 Axes>"
            ]
          },
          "metadata": {
            "tags": []
          }
        },
        {
          "output_type": "stream",
          "text": [
            "Network Prediction: 6\n",
            "\n",
            "Network Output: \n",
            "[[0.  ]\n",
            " [0.  ]\n",
            " [0.02]\n",
            " [0.02]\n",
            " [0.  ]\n",
            " [0.  ]\n",
            " [0.92]\n",
            " [0.  ]\n",
            " [0.  ]\n",
            " [0.  ]]\n",
            "\n"
          ],
          "name": "stdout"
        }
      ]
    },
    {
      "cell_type": "code",
      "metadata": {
        "id": "J58JU8GketDE",
        "colab_type": "code",
        "colab": {}
      },
      "source": [
        ""
      ],
      "execution_count": 0,
      "outputs": []
    }
  ]
}